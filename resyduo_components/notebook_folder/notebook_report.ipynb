{
 "cells": [
  {
   "cell_type": "code",
   "execution_count": 1,
   "metadata": {},
   "outputs": [],
   "source": [
    "import pandas as pd\n",
    "import numpy as np\n",
    "from IPython.display import display\n",
    "from recommender import Recommender\n",
    "import json\n",
    "import os\n",
    "from pandas import DataFrame"
   ]
  },
  {
   "cell_type": "code",
   "execution_count": 2,
   "metadata": {},
   "outputs": [],
   "source": [
    "recommender = Recommender()"
   ]
  },
  {
   "cell_type": "markdown",
   "metadata": {},
   "source": [
    "# Parameter Tuning"
   ]
  },
  {
   "cell_type": "code",
   "execution_count": 3,
   "metadata": {},
   "outputs": [
    {
     "name": "stdout",
     "output_type": "stream",
     "text": [
      "Computing the msd similarity matrix...\n",
      "Done computing similarity matrix.\n",
      "Computing the msd similarity matrix...\n",
      "Done computing similarity matrix.\n",
      "Computing the msd similarity matrix...\n",
      "Done computing similarity matrix.\n",
      "Computing the msd similarity matrix...\n",
      "Done computing similarity matrix.\n",
      "Computing the msd similarity matrix...\n",
      "Done computing similarity matrix.\n",
      "Computing the msd similarity matrix...\n",
      "Done computing similarity matrix.\n",
      "Computing the msd similarity matrix...\n",
      "Done computing similarity matrix.\n",
      "Computing the msd similarity matrix...\n",
      "Done computing similarity matrix.\n",
      "Computing the msd similarity matrix...\n",
      "Done computing similarity matrix.\n",
      "Computing the msd similarity matrix...\n",
      "Done computing similarity matrix.\n",
      "Computing the msd similarity matrix...\n",
      "Done computing similarity matrix.\n",
      "Computing the msd similarity matrix...\n",
      "Done computing similarity matrix.\n",
      "Computing the msd similarity matrix...\n",
      "Done computing similarity matrix.\n",
      "Computing the msd similarity matrix...\n",
      "Done computing similarity matrix.\n",
      "Computing the msd similarity matrix...\n",
      "Done computing similarity matrix.\n",
      "Computing the msd similarity matrix...\n",
      "Done computing similarity matrix.\n",
      "Computing the msd similarity matrix...\n",
      "Done computing similarity matrix.\n",
      "Computing the msd similarity matrix...\n",
      "Done computing similarity matrix.\n",
      "Computing the msd similarity matrix...\n",
      "Done computing similarity matrix.\n",
      "Computing the msd similarity matrix...\n",
      "Done computing similarity matrix.\n",
      "Computing the msd similarity matrix...\n",
      "Done computing similarity matrix.\n",
      "Computing the msd similarity matrix...\n",
      "Done computing similarity matrix.\n",
      "Computing the msd similarity matrix...\n",
      "Done computing similarity matrix.\n",
      "Computing the msd similarity matrix...\n",
      "Done computing similarity matrix.\n",
      "Computing the msd similarity matrix...\n",
      "Done computing similarity matrix.\n",
      "Computing the msd similarity matrix...\n",
      "Done computing similarity matrix.\n",
      "Computing the msd similarity matrix...\n",
      "Done computing similarity matrix.\n",
      "Computing the msd similarity matrix...\n",
      "Done computing similarity matrix.\n",
      "Computing the msd similarity matrix...\n",
      "Done computing similarity matrix.\n",
      "Computing the msd similarity matrix...\n",
      "Done computing similarity matrix.\n",
      "Computing the msd similarity matrix...\n",
      "Done computing similarity matrix.\n",
      "Computing the msd similarity matrix...\n",
      "Done computing similarity matrix.\n",
      "Computing the msd similarity matrix...\n",
      "Done computing similarity matrix.\n",
      "Computing the msd similarity matrix...\n",
      "Done computing similarity matrix.\n",
      "Computing the msd similarity matrix...\n",
      "Done computing similarity matrix.\n",
      "Computing the msd similarity matrix...\n",
      "Done computing similarity matrix.\n",
      "Computing the msd similarity matrix...\n",
      "Done computing similarity matrix.\n",
      "Computing the msd similarity matrix...\n",
      "Done computing similarity matrix.\n",
      "Computing the msd similarity matrix...\n",
      "Done computing similarity matrix.\n",
      "Computing the msd similarity matrix...\n",
      "Done computing similarity matrix.\n"
     ]
    },
    {
     "ename": "KeyboardInterrupt",
     "evalue": "",
     "output_type": "error",
     "traceback": [
      "\u001b[1;31m---------------------------------------------------------------------------\u001b[0m",
      "\u001b[1;31mKeyboardInterrupt\u001b[0m                         Traceback (most recent call last)",
      "\u001b[1;32m~\\AppData\\Local\\Temp\\ipykernel_28812\\238824574.py\u001b[0m in \u001b[0;36m<module>\u001b[1;34m\u001b[0m\n\u001b[1;32m----> 1\u001b[1;33m \u001b[0mparam_df\u001b[0m \u001b[1;33m=\u001b[0m \u001b[0mrecommender\u001b[0m\u001b[1;33m.\u001b[0m\u001b[0mget_best_hyper_param\u001b[0m\u001b[1;33m(\u001b[0m\u001b[1;34m'..\\\\transformation_component\\\\transformation_storage\\\\components_data\\\\surprise_df_page_0_to_276_cut_10_10.csv'\u001b[0m\u001b[1;33m)\u001b[0m\u001b[1;33m\u001b[0m\u001b[1;33m\u001b[0m\u001b[0m\n\u001b[0m",
      "\u001b[1;32mc:\\progetti\\low-code-ard-proj\\resyduo_components\\notebook_folder\\recommender.py\u001b[0m in \u001b[0;36mget_best_hyper_param\u001b[1;34m(self, surp_df)\u001b[0m\n\u001b[0;32m     31\u001b[0m         \u001b[0mgs\u001b[0m \u001b[1;33m=\u001b[0m \u001b[0mGridSearchCV\u001b[0m\u001b[1;33m(\u001b[0m\u001b[0mKNNWithMeans\u001b[0m\u001b[1;33m,\u001b[0m \u001b[0mparam_grid\u001b[0m\u001b[1;33m,\u001b[0m \u001b[0mmeasures\u001b[0m\u001b[1;33m=\u001b[0m\u001b[1;33m[\u001b[0m\u001b[1;34m\"rmse\"\u001b[0m\u001b[1;33m,\u001b[0m \u001b[1;34m\"mae\"\u001b[0m\u001b[1;33m]\u001b[0m\u001b[1;33m,\u001b[0m \u001b[0mcv\u001b[0m\u001b[1;33m=\u001b[0m\u001b[1;36m10\u001b[0m\u001b[1;33m)\u001b[0m\u001b[1;33m\u001b[0m\u001b[1;33m\u001b[0m\u001b[0m\n\u001b[0;32m     32\u001b[0m \u001b[1;33m\u001b[0m\u001b[0m\n\u001b[1;32m---> 33\u001b[1;33m         \u001b[0mgs\u001b[0m\u001b[1;33m.\u001b[0m\u001b[0mfit\u001b[0m\u001b[1;33m(\u001b[0m\u001b[0mdata\u001b[0m\u001b[1;33m)\u001b[0m\u001b[1;33m\u001b[0m\u001b[1;33m\u001b[0m\u001b[0m\n\u001b[0m\u001b[0;32m     34\u001b[0m \u001b[1;33m\u001b[0m\u001b[0m\n\u001b[0;32m     35\u001b[0m         \u001b[1;31m# best RMSE score\u001b[0m\u001b[1;33m\u001b[0m\u001b[1;33m\u001b[0m\u001b[1;33m\u001b[0m\u001b[0m\n",
      "\u001b[1;32mc:\\Users\\Skynetth\\AppData\\Local\\Programs\\Python\\Python37\\lib\\site-packages\\surprise\\model_selection\\search.py\u001b[0m in \u001b[0;36mfit\u001b[1;34m(self, data)\u001b[0m\n\u001b[0;32m     88\u001b[0m         out = Parallel(n_jobs=self.n_jobs,\n\u001b[0;32m     89\u001b[0m                        \u001b[0mpre_dispatch\u001b[0m\u001b[1;33m=\u001b[0m\u001b[0mself\u001b[0m\u001b[1;33m.\u001b[0m\u001b[0mpre_dispatch\u001b[0m\u001b[1;33m,\u001b[0m\u001b[1;33m\u001b[0m\u001b[1;33m\u001b[0m\u001b[0m\n\u001b[1;32m---> 90\u001b[1;33m                        verbose=self.joblib_verbose)(delayed_list)\n\u001b[0m\u001b[0;32m     91\u001b[0m \u001b[1;33m\u001b[0m\u001b[0m\n\u001b[0;32m     92\u001b[0m         (test_measures_dicts,\n",
      "\u001b[1;32mc:\\Users\\Skynetth\\AppData\\Local\\Programs\\Python\\Python37\\lib\\site-packages\\joblib\\parallel.py\u001b[0m in \u001b[0;36m__call__\u001b[1;34m(self, iterable)\u001b[0m\n\u001b[0;32m   1049\u001b[0m                 \u001b[0mself\u001b[0m\u001b[1;33m.\u001b[0m\u001b[0m_iterating\u001b[0m \u001b[1;33m=\u001b[0m \u001b[0mself\u001b[0m\u001b[1;33m.\u001b[0m\u001b[0m_original_iterator\u001b[0m \u001b[1;32mis\u001b[0m \u001b[1;32mnot\u001b[0m \u001b[1;32mNone\u001b[0m\u001b[1;33m\u001b[0m\u001b[1;33m\u001b[0m\u001b[0m\n\u001b[0;32m   1050\u001b[0m \u001b[1;33m\u001b[0m\u001b[0m\n\u001b[1;32m-> 1051\u001b[1;33m             \u001b[1;32mwhile\u001b[0m \u001b[0mself\u001b[0m\u001b[1;33m.\u001b[0m\u001b[0mdispatch_one_batch\u001b[0m\u001b[1;33m(\u001b[0m\u001b[0miterator\u001b[0m\u001b[1;33m)\u001b[0m\u001b[1;33m:\u001b[0m\u001b[1;33m\u001b[0m\u001b[1;33m\u001b[0m\u001b[0m\n\u001b[0m\u001b[0;32m   1052\u001b[0m                 \u001b[1;32mpass\u001b[0m\u001b[1;33m\u001b[0m\u001b[1;33m\u001b[0m\u001b[0m\n\u001b[0;32m   1053\u001b[0m \u001b[1;33m\u001b[0m\u001b[0m\n",
      "\u001b[1;32mc:\\Users\\Skynetth\\AppData\\Local\\Programs\\Python\\Python37\\lib\\site-packages\\joblib\\parallel.py\u001b[0m in \u001b[0;36mdispatch_one_batch\u001b[1;34m(self, iterator)\u001b[0m\n\u001b[0;32m    864\u001b[0m                 \u001b[1;32mreturn\u001b[0m \u001b[1;32mFalse\u001b[0m\u001b[1;33m\u001b[0m\u001b[1;33m\u001b[0m\u001b[0m\n\u001b[0;32m    865\u001b[0m             \u001b[1;32melse\u001b[0m\u001b[1;33m:\u001b[0m\u001b[1;33m\u001b[0m\u001b[1;33m\u001b[0m\u001b[0m\n\u001b[1;32m--> 866\u001b[1;33m                 \u001b[0mself\u001b[0m\u001b[1;33m.\u001b[0m\u001b[0m_dispatch\u001b[0m\u001b[1;33m(\u001b[0m\u001b[0mtasks\u001b[0m\u001b[1;33m)\u001b[0m\u001b[1;33m\u001b[0m\u001b[1;33m\u001b[0m\u001b[0m\n\u001b[0m\u001b[0;32m    867\u001b[0m                 \u001b[1;32mreturn\u001b[0m \u001b[1;32mTrue\u001b[0m\u001b[1;33m\u001b[0m\u001b[1;33m\u001b[0m\u001b[0m\n\u001b[0;32m    868\u001b[0m \u001b[1;33m\u001b[0m\u001b[0m\n",
      "\u001b[1;32mc:\\Users\\Skynetth\\AppData\\Local\\Programs\\Python\\Python37\\lib\\site-packages\\joblib\\parallel.py\u001b[0m in \u001b[0;36m_dispatch\u001b[1;34m(self, batch)\u001b[0m\n\u001b[0;32m    782\u001b[0m         \u001b[1;32mwith\u001b[0m \u001b[0mself\u001b[0m\u001b[1;33m.\u001b[0m\u001b[0m_lock\u001b[0m\u001b[1;33m:\u001b[0m\u001b[1;33m\u001b[0m\u001b[1;33m\u001b[0m\u001b[0m\n\u001b[0;32m    783\u001b[0m             \u001b[0mjob_idx\u001b[0m \u001b[1;33m=\u001b[0m \u001b[0mlen\u001b[0m\u001b[1;33m(\u001b[0m\u001b[0mself\u001b[0m\u001b[1;33m.\u001b[0m\u001b[0m_jobs\u001b[0m\u001b[1;33m)\u001b[0m\u001b[1;33m\u001b[0m\u001b[1;33m\u001b[0m\u001b[0m\n\u001b[1;32m--> 784\u001b[1;33m             \u001b[0mjob\u001b[0m \u001b[1;33m=\u001b[0m \u001b[0mself\u001b[0m\u001b[1;33m.\u001b[0m\u001b[0m_backend\u001b[0m\u001b[1;33m.\u001b[0m\u001b[0mapply_async\u001b[0m\u001b[1;33m(\u001b[0m\u001b[0mbatch\u001b[0m\u001b[1;33m,\u001b[0m \u001b[0mcallback\u001b[0m\u001b[1;33m=\u001b[0m\u001b[0mcb\u001b[0m\u001b[1;33m)\u001b[0m\u001b[1;33m\u001b[0m\u001b[1;33m\u001b[0m\u001b[0m\n\u001b[0m\u001b[0;32m    785\u001b[0m             \u001b[1;31m# A job can complete so quickly than its callback is\u001b[0m\u001b[1;33m\u001b[0m\u001b[1;33m\u001b[0m\u001b[1;33m\u001b[0m\u001b[0m\n\u001b[0;32m    786\u001b[0m             \u001b[1;31m# called before we get here, causing self._jobs to\u001b[0m\u001b[1;33m\u001b[0m\u001b[1;33m\u001b[0m\u001b[1;33m\u001b[0m\u001b[0m\n",
      "\u001b[1;32mc:\\Users\\Skynetth\\AppData\\Local\\Programs\\Python\\Python37\\lib\\site-packages\\joblib\\_parallel_backends.py\u001b[0m in \u001b[0;36mapply_async\u001b[1;34m(self, func, callback)\u001b[0m\n\u001b[0;32m    206\u001b[0m     \u001b[1;32mdef\u001b[0m \u001b[0mapply_async\u001b[0m\u001b[1;33m(\u001b[0m\u001b[0mself\u001b[0m\u001b[1;33m,\u001b[0m \u001b[0mfunc\u001b[0m\u001b[1;33m,\u001b[0m \u001b[0mcallback\u001b[0m\u001b[1;33m=\u001b[0m\u001b[1;32mNone\u001b[0m\u001b[1;33m)\u001b[0m\u001b[1;33m:\u001b[0m\u001b[1;33m\u001b[0m\u001b[1;33m\u001b[0m\u001b[0m\n\u001b[0;32m    207\u001b[0m         \u001b[1;34m\"\"\"Schedule a func to be run\"\"\"\u001b[0m\u001b[1;33m\u001b[0m\u001b[1;33m\u001b[0m\u001b[0m\n\u001b[1;32m--> 208\u001b[1;33m         \u001b[0mresult\u001b[0m \u001b[1;33m=\u001b[0m \u001b[0mImmediateResult\u001b[0m\u001b[1;33m(\u001b[0m\u001b[0mfunc\u001b[0m\u001b[1;33m)\u001b[0m\u001b[1;33m\u001b[0m\u001b[1;33m\u001b[0m\u001b[0m\n\u001b[0m\u001b[0;32m    209\u001b[0m         \u001b[1;32mif\u001b[0m \u001b[0mcallback\u001b[0m\u001b[1;33m:\u001b[0m\u001b[1;33m\u001b[0m\u001b[1;33m\u001b[0m\u001b[0m\n\u001b[0;32m    210\u001b[0m             \u001b[0mcallback\u001b[0m\u001b[1;33m(\u001b[0m\u001b[0mresult\u001b[0m\u001b[1;33m)\u001b[0m\u001b[1;33m\u001b[0m\u001b[1;33m\u001b[0m\u001b[0m\n",
      "\u001b[1;32mc:\\Users\\Skynetth\\AppData\\Local\\Programs\\Python\\Python37\\lib\\site-packages\\joblib\\_parallel_backends.py\u001b[0m in \u001b[0;36m__init__\u001b[1;34m(self, batch)\u001b[0m\n\u001b[0;32m    570\u001b[0m         \u001b[1;31m# Don't delay the application, to avoid keeping the input\u001b[0m\u001b[1;33m\u001b[0m\u001b[1;33m\u001b[0m\u001b[1;33m\u001b[0m\u001b[0m\n\u001b[0;32m    571\u001b[0m         \u001b[1;31m# arguments in memory\u001b[0m\u001b[1;33m\u001b[0m\u001b[1;33m\u001b[0m\u001b[1;33m\u001b[0m\u001b[0m\n\u001b[1;32m--> 572\u001b[1;33m         \u001b[0mself\u001b[0m\u001b[1;33m.\u001b[0m\u001b[0mresults\u001b[0m \u001b[1;33m=\u001b[0m \u001b[0mbatch\u001b[0m\u001b[1;33m(\u001b[0m\u001b[1;33m)\u001b[0m\u001b[1;33m\u001b[0m\u001b[1;33m\u001b[0m\u001b[0m\n\u001b[0m\u001b[0;32m    573\u001b[0m \u001b[1;33m\u001b[0m\u001b[0m\n\u001b[0;32m    574\u001b[0m     \u001b[1;32mdef\u001b[0m \u001b[0mget\u001b[0m\u001b[1;33m(\u001b[0m\u001b[0mself\u001b[0m\u001b[1;33m)\u001b[0m\u001b[1;33m:\u001b[0m\u001b[1;33m\u001b[0m\u001b[1;33m\u001b[0m\u001b[0m\n",
      "\u001b[1;32mc:\\Users\\Skynetth\\AppData\\Local\\Programs\\Python\\Python37\\lib\\site-packages\\joblib\\parallel.py\u001b[0m in \u001b[0;36m__call__\u001b[1;34m(self)\u001b[0m\n\u001b[0;32m    261\u001b[0m         \u001b[1;32mwith\u001b[0m \u001b[0mparallel_backend\u001b[0m\u001b[1;33m(\u001b[0m\u001b[0mself\u001b[0m\u001b[1;33m.\u001b[0m\u001b[0m_backend\u001b[0m\u001b[1;33m,\u001b[0m \u001b[0mn_jobs\u001b[0m\u001b[1;33m=\u001b[0m\u001b[0mself\u001b[0m\u001b[1;33m.\u001b[0m\u001b[0m_n_jobs\u001b[0m\u001b[1;33m)\u001b[0m\u001b[1;33m:\u001b[0m\u001b[1;33m\u001b[0m\u001b[1;33m\u001b[0m\u001b[0m\n\u001b[0;32m    262\u001b[0m             return [func(*args, **kwargs)\n\u001b[1;32m--> 263\u001b[1;33m                     for func, args, kwargs in self.items]\n\u001b[0m\u001b[0;32m    264\u001b[0m \u001b[1;33m\u001b[0m\u001b[0m\n\u001b[0;32m    265\u001b[0m     \u001b[1;32mdef\u001b[0m \u001b[0m__reduce__\u001b[0m\u001b[1;33m(\u001b[0m\u001b[0mself\u001b[0m\u001b[1;33m)\u001b[0m\u001b[1;33m:\u001b[0m\u001b[1;33m\u001b[0m\u001b[1;33m\u001b[0m\u001b[0m\n",
      "\u001b[1;32mc:\\Users\\Skynetth\\AppData\\Local\\Programs\\Python\\Python37\\lib\\site-packages\\joblib\\parallel.py\u001b[0m in \u001b[0;36m<listcomp>\u001b[1;34m(.0)\u001b[0m\n\u001b[0;32m    261\u001b[0m         \u001b[1;32mwith\u001b[0m \u001b[0mparallel_backend\u001b[0m\u001b[1;33m(\u001b[0m\u001b[0mself\u001b[0m\u001b[1;33m.\u001b[0m\u001b[0m_backend\u001b[0m\u001b[1;33m,\u001b[0m \u001b[0mn_jobs\u001b[0m\u001b[1;33m=\u001b[0m\u001b[0mself\u001b[0m\u001b[1;33m.\u001b[0m\u001b[0m_n_jobs\u001b[0m\u001b[1;33m)\u001b[0m\u001b[1;33m:\u001b[0m\u001b[1;33m\u001b[0m\u001b[1;33m\u001b[0m\u001b[0m\n\u001b[0;32m    262\u001b[0m             return [func(*args, **kwargs)\n\u001b[1;32m--> 263\u001b[1;33m                     for func, args, kwargs in self.items]\n\u001b[0m\u001b[0;32m    264\u001b[0m \u001b[1;33m\u001b[0m\u001b[0m\n\u001b[0;32m    265\u001b[0m     \u001b[1;32mdef\u001b[0m \u001b[0m__reduce__\u001b[0m\u001b[1;33m(\u001b[0m\u001b[0mself\u001b[0m\u001b[1;33m)\u001b[0m\u001b[1;33m:\u001b[0m\u001b[1;33m\u001b[0m\u001b[1;33m\u001b[0m\u001b[0m\n",
      "\u001b[1;32mc:\\Users\\Skynetth\\AppData\\Local\\Programs\\Python\\Python37\\lib\\site-packages\\surprise\\model_selection\\validation.py\u001b[0m in \u001b[0;36mfit_and_score\u001b[1;34m(algo, trainset, testset, measures, return_train_measures)\u001b[0m\n\u001b[0;32m    167\u001b[0m     \u001b[0mfit_time\u001b[0m \u001b[1;33m=\u001b[0m \u001b[0mtime\u001b[0m\u001b[1;33m.\u001b[0m\u001b[0mtime\u001b[0m\u001b[1;33m(\u001b[0m\u001b[1;33m)\u001b[0m \u001b[1;33m-\u001b[0m \u001b[0mstart_fit\u001b[0m\u001b[1;33m\u001b[0m\u001b[1;33m\u001b[0m\u001b[0m\n\u001b[0;32m    168\u001b[0m     \u001b[0mstart_test\u001b[0m \u001b[1;33m=\u001b[0m \u001b[0mtime\u001b[0m\u001b[1;33m.\u001b[0m\u001b[0mtime\u001b[0m\u001b[1;33m(\u001b[0m\u001b[1;33m)\u001b[0m\u001b[1;33m\u001b[0m\u001b[1;33m\u001b[0m\u001b[0m\n\u001b[1;32m--> 169\u001b[1;33m     \u001b[0mpredictions\u001b[0m \u001b[1;33m=\u001b[0m \u001b[0malgo\u001b[0m\u001b[1;33m.\u001b[0m\u001b[0mtest\u001b[0m\u001b[1;33m(\u001b[0m\u001b[0mtestset\u001b[0m\u001b[1;33m)\u001b[0m\u001b[1;33m\u001b[0m\u001b[1;33m\u001b[0m\u001b[0m\n\u001b[0m\u001b[0;32m    170\u001b[0m     \u001b[0mtest_time\u001b[0m \u001b[1;33m=\u001b[0m \u001b[0mtime\u001b[0m\u001b[1;33m.\u001b[0m\u001b[0mtime\u001b[0m\u001b[1;33m(\u001b[0m\u001b[1;33m)\u001b[0m \u001b[1;33m-\u001b[0m \u001b[0mstart_test\u001b[0m\u001b[1;33m\u001b[0m\u001b[1;33m\u001b[0m\u001b[0m\n\u001b[0;32m    171\u001b[0m \u001b[1;33m\u001b[0m\u001b[0m\n",
      "\u001b[1;32mc:\\Users\\Skynetth\\AppData\\Local\\Programs\\Python\\Python37\\lib\\site-packages\\surprise\\prediction_algorithms\\algo_base.py\u001b[0m in \u001b[0;36mtest\u001b[1;34m(self, testset, verbose)\u001b[0m\n\u001b[0;32m    166\u001b[0m                                     \u001b[0mr_ui_trans\u001b[0m\u001b[1;33m,\u001b[0m\u001b[1;33m\u001b[0m\u001b[1;33m\u001b[0m\u001b[0m\n\u001b[0;32m    167\u001b[0m                                     verbose=verbose)\n\u001b[1;32m--> 168\u001b[1;33m                        for (uid, iid, r_ui_trans) in testset]\n\u001b[0m\u001b[0;32m    169\u001b[0m         \u001b[1;32mreturn\u001b[0m \u001b[0mpredictions\u001b[0m\u001b[1;33m\u001b[0m\u001b[1;33m\u001b[0m\u001b[0m\n\u001b[0;32m    170\u001b[0m \u001b[1;33m\u001b[0m\u001b[0m\n",
      "\u001b[1;32mc:\\Users\\Skynetth\\AppData\\Local\\Programs\\Python\\Python37\\lib\\site-packages\\surprise\\prediction_algorithms\\algo_base.py\u001b[0m in \u001b[0;36m<listcomp>\u001b[1;34m(.0)\u001b[0m\n\u001b[0;32m    166\u001b[0m                                     \u001b[0mr_ui_trans\u001b[0m\u001b[1;33m,\u001b[0m\u001b[1;33m\u001b[0m\u001b[1;33m\u001b[0m\u001b[0m\n\u001b[0;32m    167\u001b[0m                                     verbose=verbose)\n\u001b[1;32m--> 168\u001b[1;33m                        for (uid, iid, r_ui_trans) in testset]\n\u001b[0m\u001b[0;32m    169\u001b[0m         \u001b[1;32mreturn\u001b[0m \u001b[0mpredictions\u001b[0m\u001b[1;33m\u001b[0m\u001b[1;33m\u001b[0m\u001b[0m\n\u001b[0;32m    170\u001b[0m \u001b[1;33m\u001b[0m\u001b[0m\n",
      "\u001b[1;32mc:\\Users\\Skynetth\\AppData\\Local\\Programs\\Python\\Python37\\lib\\site-packages\\surprise\\prediction_algorithms\\algo_base.py\u001b[0m in \u001b[0;36mpredict\u001b[1;34m(self, uid, iid, r_ui, clip, verbose)\u001b[0m\n\u001b[0;32m    107\u001b[0m \u001b[1;33m\u001b[0m\u001b[0m\n\u001b[0;32m    108\u001b[0m             \u001b[1;31m# If the details dict was also returned\u001b[0m\u001b[1;33m\u001b[0m\u001b[1;33m\u001b[0m\u001b[1;33m\u001b[0m\u001b[0m\n\u001b[1;32m--> 109\u001b[1;33m             \u001b[1;32mif\u001b[0m \u001b[0misinstance\u001b[0m\u001b[1;33m(\u001b[0m\u001b[0mest\u001b[0m\u001b[1;33m,\u001b[0m \u001b[0mtuple\u001b[0m\u001b[1;33m)\u001b[0m\u001b[1;33m:\u001b[0m\u001b[1;33m\u001b[0m\u001b[1;33m\u001b[0m\u001b[0m\n\u001b[0m\u001b[0;32m    110\u001b[0m                 \u001b[0mest\u001b[0m\u001b[1;33m,\u001b[0m \u001b[0mdetails\u001b[0m \u001b[1;33m=\u001b[0m \u001b[0mest\u001b[0m\u001b[1;33m\u001b[0m\u001b[1;33m\u001b[0m\u001b[0m\n\u001b[0;32m    111\u001b[0m \u001b[1;33m\u001b[0m\u001b[0m\n",
      "\u001b[1;31mKeyboardInterrupt\u001b[0m: "
     ]
    }
   ],
   "source": [
    "param_df = recommender.get_best_hyper_param('..\\\\transformation_component\\\\transformation_storage\\\\components_data\\\\surprise_df_page_0_to_276_cut_10_10.csv')"
   ]
  },
  {
   "cell_type": "markdown",
   "metadata": {},
   "source": [
    "# best parameters\n",
    "Lower : RMSE 0.19526341881042372\n",
    "\n",
    "Best parameters :{'k': 20, 'sim_options': {'name': 'cosine', 'min_support': 1, 'user_based': True, 'shrinkage': 0}}"
   ]
  },
  {
   "cell_type": "markdown",
   "metadata": {},
   "source": [
    "# Write Report and metrics to table"
   ]
  },
  {
   "cell_type": "code",
   "execution_count": 3,
   "metadata": {},
   "outputs": [],
   "source": [
    "def write_report_to_file (report_file, df_name, row_cut, col_cut,surprise_df_path,original_df_path):\n",
    "    df = pd.read_csv(original_df_path)\n",
    "    report = recommender.predict_and_validate(surprise_df=surprise_df_path,sim_options={\n",
    "                'name': 'msd',\n",
    "                'user_based': True,\n",
    "                'min_support':1,\n",
    "                'shrinkage':0\n",
    "                },threshold = 0.15)\n",
    "    #print(\"REPORT\",report)\n",
    "    file_stats = os.stat(surprise_df_path)\n",
    "    file_size = round(file_stats.st_size / (1024 * 1024),4)\n",
    "\n",
    "    s = ''\n",
    "    precision_avg = 0.0\n",
    "    recall_avg = 0.0\n",
    "    accuracy_avg = 0.0\n",
    "    fpr_avg = 0.0\n",
    "    sr_avg = 0.0\n",
    "    mae_avg = 0.0\n",
    "    rmse_avg = 0.0\n",
    "    for i in range(0, len(report)):\n",
    "        s +='fold'+str(i+1)+\" \"+ \"&\"+ str(round(report[i]['precision'],4))+\" \"+\"&\"+ str(round(report[i]['recall'],4))+\" \"\"&\"+ str(round(report[i]['accuracy'],4))+\" \"\"&\"+ str(round(report[i]['false_positive_rate'],4))+\" \"\"&\"+ str(round(report[i]['success_rate'],4))+\" \"+\"&\"+str(round(report[i]['mae'],4))+\"&\"+str(round(report[i]['rmse'],4))+\"\\\\\\\\\"\n",
    "        precision_avg += report[i]['precision']\n",
    "        recall_avg += report[i]['recall']\n",
    "        accuracy_avg += report[i]['accuracy']\n",
    "        fpr_avg += report[i]['false_positive_rate']\n",
    "        sr_avg += report[i]['success_rate']\n",
    "        mae_avg += report[i]['mae']\n",
    "        rmse_avg += report[i]['rmse']\n",
    "        #AVG\n",
    "    precision_avg = round(precision_avg/len(report),2)\n",
    "    recall_avg = round(recall_avg /len(report),2)\n",
    "    accuracy_avg = round(accuracy_avg /len(report),2)\n",
    "    fpr_avg = round(fpr_avg /len(report),2)\n",
    "    sr_avg = round(sr_avg /len(report),2)\n",
    "    mae_avg  = round(mae_avg /len(report),2)\n",
    "    rmse_avg = round(rmse_avg /len(report),2)\n",
    "    s += \"\\\\cline{1-8}\"\n",
    "    s +='average'+\" \"+ \"&\"+ str(precision_avg)+\" \"+\"&\"+ str(recall_avg)+\" \"\"&\"+str(accuracy_avg)+\" \"\"&\"+ str(fpr_avg)+\" \"\"&\"+str(sr_avg)+\" \"+\"&\"+str(mae_avg)+\"&\"+str(rmse_avg)+\"\\\\\\\\\"\n",
    "    string_report = \"\"\"\n",
    "############# DataFrame :  \"\"\"+df_name+\"\"\"#################\n",
    "\n",
    "\n",
    "\\\\begin{table}[H]\n",
    "\\centering\n",
    "\\\\begin{tabular}{|l|c|c|c|c|c|c|c|}\n",
    "\\hline\n",
    "\\multicolumn{8}{|c|}{\"\"\"+str(df_name.replace(\"_\",\"\\_\"))+\"\"\"} \\\\\\\\\n",
    "\\cline{1-8}\n",
    "\\multicolumn{3}{|c|}{Cut-off (row-col)} & \\multicolumn{3}{c|}{File Size} & \\multicolumn{2}{c|}{Dimension (row,col)}\\\\\\\\\n",
    "\\cline{1-8}\n",
    "\\multicolumn{3}{|c|}{\"\"\"+str(row_cut)+\"\"\",\"\"\"+str(col_cut)+\"\"\"} & \\multicolumn{3}{c|}{\"\"\"+str(file_size)+\"\"\"} & \\multicolumn{1}{c|}{\"\"\"+str(len(df.index))+\"\"\"} & \\multicolumn{1}{c|}{\"\"\"+str(len(df.columns))+\"\"\"}\\\\\\\\\n",
    "\\cline{1-8}\n",
    "\\multicolumn{1}{|c|}{fold} & precision & recall & accuracy & false positive rate & success rate &MAE &RMSE\\\\\\\\\n",
    "\n",
    "\\hline\n",
    "\"\"\"+s+\"\"\"\n",
    "\\hline\n",
    "\\end{tabular}\n",
    "\\caption{Analisi dei risultati di predizione per il dataframe :\"\"\"+str(df_name.replace(\"_\",\"\\_\"))+\"\"\"}\n",
    "\\end{table}\n",
    "\n",
    "\n",
    "\"\"\"\n",
    "\n",
    "\n",
    "    with open(report_file, 'a') as file:\n",
    "        file.write(string_report)\n",
    "\n"
   ]
  },
  {
   "cell_type": "markdown",
   "metadata": {},
   "source": [
    "# Project Component report"
   ]
  },
  {
   "cell_type": "code",
   "execution_count": 5,
   "metadata": {},
   "outputs": [
    {
     "name": "stdout",
     "output_type": "stream",
     "text": [
      "Computing the msd similarity matrix...\n",
      "Done computing similarity matrix.\n",
      "Computing the msd similarity matrix...\n",
      "Done computing similarity matrix.\n",
      "Computing the msd similarity matrix...\n",
      "Done computing similarity matrix.\n",
      "Computing the msd similarity matrix...\n",
      "Done computing similarity matrix.\n",
      "Computing the msd similarity matrix...\n",
      "Done computing similarity matrix.\n",
      "Computing the msd similarity matrix...\n",
      "Done computing similarity matrix.\n",
      "Computing the msd similarity matrix...\n",
      "Done computing similarity matrix.\n",
      "Computing the msd similarity matrix...\n",
      "Done computing similarity matrix.\n",
      "Computing the msd similarity matrix...\n",
      "Done computing similarity matrix.\n",
      "Computing the msd similarity matrix...\n",
      "Done computing similarity matrix.\n"
     ]
    }
   ],
   "source": [
    "write_report_to_file(report_file='project_component_report.txt',df_name='project_df_page_0_to_276_cut_10_10',row_cut=10,col_cut=10, surprise_df_path='..\\\\transformation_component\\\\transformation_storage\\\\components_data\\\\surprise_df_page_0_to_276_cut_10_10.csv', original_df_path='..\\\\transformation_component\\\\transformation_storage\\\\components_data\\\\project_df_page_0_to_276_cut_10_10.csv')"
   ]
  },
  {
   "cell_type": "code",
   "execution_count": 6,
   "metadata": {},
   "outputs": [
    {
     "name": "stdout",
     "output_type": "stream",
     "text": [
      "Computing the msd similarity matrix...\n",
      "Done computing similarity matrix.\n",
      "Computing the msd similarity matrix...\n",
      "Done computing similarity matrix.\n",
      "Computing the msd similarity matrix...\n",
      "Done computing similarity matrix.\n",
      "Computing the msd similarity matrix...\n",
      "Done computing similarity matrix.\n",
      "Computing the msd similarity matrix...\n",
      "Done computing similarity matrix.\n",
      "Computing the msd similarity matrix...\n",
      "Done computing similarity matrix.\n",
      "Computing the msd similarity matrix...\n",
      "Done computing similarity matrix.\n",
      "Computing the msd similarity matrix...\n",
      "Done computing similarity matrix.\n",
      "Computing the msd similarity matrix...\n",
      "Done computing similarity matrix.\n",
      "Computing the msd similarity matrix...\n",
      "Done computing similarity matrix.\n"
     ]
    }
   ],
   "source": [
    "write_report_to_file(report_file='project_component_report.txt',df_name='surprise_df_page_0_to_276_cut_5_5',row_cut=5,col_cut=5, surprise_df_path='..\\\\transformation_component\\\\transformation_storage\\\\components_data\\\\surprise_df_page_0_to_276_cut_5_5.csv', original_df_path='..\\\\transformation_component\\\\transformation_storage\\\\components_data\\\\project_df_page_0_to_276_cut_5_5.csv')"
   ]
  },
  {
   "cell_type": "code",
   "execution_count": 6,
   "metadata": {},
   "outputs": [
    {
     "name": "stdout",
     "output_type": "stream",
     "text": [
      "Computing the pearson similarity matrix...\n",
      "Done computing similarity matrix.\n",
      "Precision 0.2008980454305336\n",
      "Recall 0.21994566447815259\n",
      "fp 773\n",
      "tn 54617\n",
      "tp 374\n",
      "fn 522\n",
      "Computing the pearson similarity matrix...\n",
      "Done computing similarity matrix.\n",
      "Precision 0.2175647120972002\n",
      "Recall 0.23118066561014264\n",
      "fp 770\n",
      "tn 54606\n",
      "tp 412\n",
      "fn 498\n",
      "Computing the pearson similarity matrix...\n",
      "Done computing similarity matrix.\n",
      "Precision 0.2284072900158478\n",
      "Recall 0.24035544487208513\n",
      "fp 765\n",
      "tn 54526\n",
      "tp 433\n",
      "fn 561\n",
      "Computing the pearson similarity matrix...\n",
      "Done computing similarity matrix.\n",
      "Precision 0.21019545694664551\n",
      "Recall 0.21909667194928684\n",
      "fp 776\n",
      "tn 54563\n",
      "tp 382\n",
      "fn 564\n",
      "Computing the pearson similarity matrix...\n",
      "Done computing similarity matrix.\n",
      "Precision 0.21513470681458013\n",
      "Recall 0.2313391442155309\n",
      "fp 754\n",
      "tn 54588\n",
      "tp 394\n",
      "fn 549\n",
      "Computing the pearson similarity matrix...\n",
      "Done computing similarity matrix.\n",
      "Precision 0.22288695192815638\n",
      "Recall 0.23474643423137873\n",
      "fp 739\n",
      "tn 54574\n",
      "tp 417\n",
      "fn 555\n",
      "Computing the pearson similarity matrix...\n",
      "Done computing similarity matrix.\n",
      "Precision 0.21689117802430014\n",
      "Recall 0.23561806656101422\n",
      "fp 776\n",
      "tn 54532\n",
      "tp 408\n",
      "fn 569\n",
      "Computing the pearson similarity matrix...\n",
      "Done computing similarity matrix.\n",
      "Precision 0.2267564712097201\n",
      "Recall 0.23427099841521393\n",
      "fp 697\n",
      "tn 54618\n",
      "tp 406\n",
      "fn 564\n",
      "Computing the pearson similarity matrix...\n",
      "Done computing similarity matrix.\n",
      "Precision 0.2236793449550977\n",
      "Recall 0.2462361331220285\n",
      "fp 735\n",
      "tn 54569\n",
      "tp 425\n",
      "fn 556\n",
      "Computing the pearson similarity matrix...\n",
      "Done computing similarity matrix.\n",
      "Precision 0.20661648177496042\n",
      "Recall 0.2275488642366614\n",
      "fp 775\n",
      "tn 54610\n",
      "tp 375\n",
      "fn 525\n"
     ]
    }
   ],
   "source": [
    "write_report_to_file(report_file='project_component_report_018.txt',df_name='surprise_df_page_0_to_276_cut_5_5_t02_msd',row_cut=5,col_cut=5, surprise_df_path='..\\\\transformation_component\\\\transformation_storage\\\\components_data\\\\surprise_df_page_0_to_276_cut_5_5.csv', original_df_path='..\\\\transformation_component\\\\transformation_storage\\\\components_data\\\\project_df_page_0_to_276_cut_5_5.csv')"
   ]
  },
  {
   "cell_type": "code",
   "execution_count": 68,
   "metadata": {},
   "outputs": [
    {
     "name": "stdout",
     "output_type": "stream",
     "text": [
      "Computing the msd similarity matrix...\n",
      "Done computing similarity matrix.\n",
      "PRECISION: 0.11306873184898354\n",
      "RECALL: 0.10645369474023877\n",
      "RMSE: 0.0907\n",
      "Computing the msd similarity matrix...\n",
      "Done computing similarity matrix.\n",
      "PRECISION: 0.11030977734753149\n",
      "RECALL: 0.10674411100354951\n",
      "RMSE: 0.0901\n",
      "Computing the msd similarity matrix...\n",
      "Done computing similarity matrix.\n",
      "PRECISION: 0.12197483059051309\n",
      "RECALL: 0.11650855114553084\n",
      "RMSE: 0.0905\n",
      "Computing the msd similarity matrix...\n",
      "Done computing similarity matrix.\n",
      "PRECISION: 0.11377863827040982\n",
      "RECALL: 0.1086060019361084\n",
      "RMSE: 0.0891\n",
      "Computing the msd similarity matrix...\n",
      "Done computing similarity matrix.\n",
      "PRECISION: 0.10880929332042594\n",
      "RECALL: 0.1037818651177799\n",
      "RMSE: 0.0892\n",
      "Computing the msd similarity matrix...\n",
      "Done computing similarity matrix.\n",
      "PRECISION: 0.1143272023233301\n",
      "RECALL: 0.10742174895127461\n",
      "RMSE: 0.0901\n",
      "Computing the msd similarity matrix...\n",
      "Done computing similarity matrix.\n",
      "PRECISION: 0.12320103259115847\n",
      "RECALL: 0.11914165859954824\n",
      "RMSE: 0.0903\n",
      "Computing the msd similarity matrix...\n",
      "Done computing similarity matrix.\n",
      "PRECISION: 0.11576314940303323\n",
      "RECALL: 0.11051629557921908\n",
      "RMSE: 0.0894\n",
      "Computing the msd similarity matrix...\n",
      "Done computing similarity matrix.\n",
      "PRECISION: 0.10655050016134238\n",
      "RECALL: 0.1019522426589222\n",
      "RMSE: 0.0905\n",
      "Computing the msd similarity matrix...\n",
      "Done computing similarity matrix.\n",
      "PRECISION: 0.11437560503388187\n",
      "RECALL: 0.11020329138431753\n",
      "RMSE: 0.0905\n"
     ]
    }
   ],
   "source": [
    "write_report_to_file(report_file='project_component_report.txt',df_name='surprise_df_page_0_to_276_cut_1_5',row_cut=1,col_cut=5, surprise_df_path='..\\\\transformation_component\\\\transformation_storage\\\\components_data\\\\surprise_df_page_0_to_276_cut_1_5.csv', original_df_path='..\\\\transformation_component\\\\transformation_storage\\\\components_data\\\\project_df_page_0_to_276_cut_1_5.csv')"
   ]
  },
  {
   "cell_type": "code",
   "execution_count": 7,
   "metadata": {},
   "outputs": [
    {
     "name": "stdout",
     "output_type": "stream",
     "text": [
      "Computing the msd similarity matrix...\n",
      "Done computing similarity matrix.\n",
      "Computing the msd similarity matrix...\n",
      "Done computing similarity matrix.\n",
      "Computing the msd similarity matrix...\n",
      "Done computing similarity matrix.\n",
      "Computing the msd similarity matrix...\n",
      "Done computing similarity matrix.\n",
      "Computing the msd similarity matrix...\n",
      "Done computing similarity matrix.\n",
      "Computing the msd similarity matrix...\n",
      "Done computing similarity matrix.\n",
      "Computing the msd similarity matrix...\n",
      "Done computing similarity matrix.\n",
      "Computing the msd similarity matrix...\n",
      "Done computing similarity matrix.\n",
      "Computing the msd similarity matrix...\n",
      "Done computing similarity matrix.\n",
      "Computing the msd similarity matrix...\n",
      "Done computing similarity matrix.\n"
     ]
    }
   ],
   "source": [
    "write_report_to_file(report_file='project_component_report.txt',df_name='surprise_df_page_0_to_276_cut_5_10',row_cut=5,col_cut=10, surprise_df_path='..\\\\transformation_component\\\\transformation_storage\\\\components_data\\\\surprise_df_page_0_to_276_cut_5_10.csv', original_df_path='..\\\\transformation_component\\\\transformation_storage\\\\components_data\\\\project_df_page_0_to_276_cut_5_10.csv')"
   ]
  },
  {
   "cell_type": "code",
   "execution_count": null,
   "metadata": {},
   "outputs": [
    {
     "name": "stdout",
     "output_type": "stream",
     "text": [
      "Computing the msd similarity matrix...\n",
      "Done computing similarity matrix.\n"
     ]
    }
   ],
   "source": [
    "write_report_to_file(report_file='project_component_report.txt',df_name='surprise_df_page_0_to_276_cut_0_0',row_cut=0,col_cut=0, surprise_df_path='..\\\\transformation_component\\\\transformation_storage\\\\components_data\\\\surprise_df_page_0_to_276_cut_0_0.csv', original_df_path='..\\\\transformation_component\\\\transformation_storage\\\\components_data\\\\project_df_page_0_to_276_cut_0_0.csv')"
   ]
  },
  {
   "cell_type": "code",
   "execution_count": null,
   "metadata": {},
   "outputs": [],
   "source": [
    "write_report_to_file(report_file='project_component_report.txt',df_name='surprise_df_page_0_to_276_cut_1_10',row_cut=1,col_cut=10, surprise_df_path='..\\\\transformation_component\\\\transformation_storage\\\\components_data\\\\surprise_df_page_0_to_276_cut_1_10.csv', original_df_path='..\\\\transformation_component\\\\transformation_storage\\\\components_data\\\\project_df_page_0_to_276_cut_1_10.csv')"
   ]
  },
  {
   "cell_type": "markdown",
   "metadata": {},
   "source": [
    "# Components/Libraries Stats"
   ]
  },
  {
   "cell_type": "code",
   "execution_count": 7,
   "metadata": {},
   "outputs": [
    {
     "name": "stdout",
     "output_type": "stream",
     "text": [
      "Computing the msd similarity matrix...\n",
      "Done computing similarity matrix.\n",
      "Computing the msd similarity matrix...\n",
      "Done computing similarity matrix.\n",
      "Computing the msd similarity matrix...\n",
      "Done computing similarity matrix.\n",
      "Computing the msd similarity matrix...\n",
      "Done computing similarity matrix.\n",
      "Computing the msd similarity matrix...\n",
      "Done computing similarity matrix.\n",
      "Computing the msd similarity matrix...\n",
      "Done computing similarity matrix.\n",
      "Computing the msd similarity matrix...\n",
      "Done computing similarity matrix.\n",
      "Computing the msd similarity matrix...\n",
      "Done computing similarity matrix.\n",
      "Computing the msd similarity matrix...\n",
      "Done computing similarity matrix.\n",
      "Computing the msd similarity matrix...\n",
      "Done computing similarity matrix.\n"
     ]
    }
   ],
   "source": [
    "write_report_to_file(report_file='report_comp_lib.txt',df_name='surprise_df_comp_lib_df_cut_10_10.csv',row_cut=10,col_cut=10, surprise_df_path='..\\\\transformation_component\\\\transformation_storage\\\\libraries_data\\\\surprise_df_comp_lib_df_cut_10_10.csv', original_df_path='..\\\\transformation_component\\\\transformation_storage\\\\libraries_data\\\\comp_lib_df_cut_10_10.csv')"
   ]
  },
  {
   "cell_type": "code",
   "execution_count": 10,
   "metadata": {},
   "outputs": [
    {
     "name": "stdout",
     "output_type": "stream",
     "text": [
      "Computing the msd similarity matrix...\n",
      "Done computing similarity matrix.\n",
      "Computing the msd similarity matrix...\n",
      "Done computing similarity matrix.\n",
      "Computing the msd similarity matrix...\n",
      "Done computing similarity matrix.\n",
      "Computing the msd similarity matrix...\n",
      "Done computing similarity matrix.\n",
      "Computing the msd similarity matrix...\n",
      "Done computing similarity matrix.\n",
      "Computing the msd similarity matrix...\n",
      "Done computing similarity matrix.\n",
      "Computing the msd similarity matrix...\n",
      "Done computing similarity matrix.\n",
      "Computing the msd similarity matrix...\n",
      "Done computing similarity matrix.\n",
      "Computing the msd similarity matrix...\n",
      "Done computing similarity matrix.\n",
      "Computing the msd similarity matrix...\n",
      "Done computing similarity matrix.\n"
     ]
    }
   ],
   "source": [
    "write_report_to_file(report_file='report_comp_lib.txt',df_name='surprise_df_comp_lib_df_cut_5_10.csv',row_cut=5,col_cut=10, surprise_df_path='..\\\\transformation_component\\\\transformation_storage\\\\libraries_data\\\\surprise_df_comp_lib_df_cut_5_10.csv', original_df_path='..\\\\transformation_component\\\\transformation_storage\\\\libraries_data\\\\comp_lib_df_cut_5_10.csv')"
   ]
  },
  {
   "cell_type": "code",
   "execution_count": 11,
   "metadata": {},
   "outputs": [
    {
     "name": "stdout",
     "output_type": "stream",
     "text": [
      "Computing the msd similarity matrix...\n",
      "Done computing similarity matrix.\n",
      "Computing the msd similarity matrix...\n",
      "Done computing similarity matrix.\n",
      "Computing the msd similarity matrix...\n",
      "Done computing similarity matrix.\n",
      "Computing the msd similarity matrix...\n",
      "Done computing similarity matrix.\n",
      "Computing the msd similarity matrix...\n",
      "Done computing similarity matrix.\n",
      "Computing the msd similarity matrix...\n",
      "Done computing similarity matrix.\n",
      "Computing the msd similarity matrix...\n",
      "Done computing similarity matrix.\n",
      "Computing the msd similarity matrix...\n",
      "Done computing similarity matrix.\n",
      "Computing the msd similarity matrix...\n",
      "Done computing similarity matrix.\n",
      "Computing the msd similarity matrix...\n",
      "Done computing similarity matrix.\n"
     ]
    }
   ],
   "source": [
    "write_report_to_file(report_file='report_comp_lib.txt',df_name='surprise_df_comp_lib_df_cut_5_5.csv',row_cut=5,col_cut=5, surprise_df_path='..\\\\transformation_component\\\\transformation_storage\\\\libraries_data\\\\surprise_df_comp_lib_df_cut_5_5.csv', original_df_path='..\\\\transformation_component\\\\transformation_storage\\\\libraries_data\\\\comp_lib_df_cut_5_5.csv')"
   ]
  },
  {
   "cell_type": "code",
   "execution_count": 4,
   "metadata": {},
   "outputs": [
    {
     "name": "stdout",
     "output_type": "stream",
     "text": [
      "Computing the msd similarity matrix...\n",
      "Done computing similarity matrix.\n",
      "Computing the msd similarity matrix...\n",
      "Done computing similarity matrix.\n",
      "Computing the msd similarity matrix...\n",
      "Done computing similarity matrix.\n",
      "Computing the msd similarity matrix...\n",
      "Done computing similarity matrix.\n",
      "Computing the msd similarity matrix...\n",
      "Done computing similarity matrix.\n",
      "Computing the msd similarity matrix...\n",
      "Done computing similarity matrix.\n",
      "Computing the msd similarity matrix...\n",
      "Done computing similarity matrix.\n",
      "Computing the msd similarity matrix...\n",
      "Done computing similarity matrix.\n",
      "Computing the msd similarity matrix...\n",
      "Done computing similarity matrix.\n",
      "Computing the msd similarity matrix...\n",
      "Done computing similarity matrix.\n"
     ]
    }
   ],
   "source": [
    "write_report_to_file(report_file='report_comp_lib018.txt',df_name='surprise_df_comp_lib_df_cut_5_5.csv',row_cut=5,col_cut=5, surprise_df_path='..\\\\transformation_component\\\\transformation_storage\\\\libraries_data\\\\surprise_df_comp_lib_df_cut_5_5.csv', original_df_path='..\\\\transformation_component\\\\transformation_storage\\\\libraries_data\\\\comp_lib_df_cut_5_5.csv')"
   ]
  },
  {
   "cell_type": "code",
   "execution_count": 8,
   "metadata": {},
   "outputs": [
    {
     "name": "stdout",
     "output_type": "stream",
     "text": [
      "Computing the msd similarity matrix...\n",
      "Done computing similarity matrix.\n",
      "Computing the msd similarity matrix...\n",
      "Done computing similarity matrix.\n",
      "Computing the msd similarity matrix...\n",
      "Done computing similarity matrix.\n",
      "Computing the msd similarity matrix...\n",
      "Done computing similarity matrix.\n",
      "Computing the msd similarity matrix...\n",
      "Done computing similarity matrix.\n",
      "Computing the msd similarity matrix...\n",
      "Done computing similarity matrix.\n",
      "Computing the msd similarity matrix...\n",
      "Done computing similarity matrix.\n",
      "Computing the msd similarity matrix...\n",
      "Done computing similarity matrix.\n",
      "Computing the msd similarity matrix...\n",
      "Done computing similarity matrix.\n",
      "Computing the msd similarity matrix...\n",
      "Done computing similarity matrix.\n"
     ]
    }
   ],
   "source": [
    "write_report_to_file(report_file='report_comp_lib_cv2.txt',df_name='surprise_df_comp_lib_df_cut_5_5.csv',row_cut=5,col_cut=5, surprise_df_path='..\\\\transformation_component\\\\transformation_storage\\\\libraries_data\\\\surprise_df_comp_lib_df_cut_5_5.csv', original_df_path='..\\\\transformation_component\\\\transformation_storage\\\\libraries_data\\\\comp_lib_df_cut_5_5.csv')"
   ]
  },
  {
   "cell_type": "code",
   "execution_count": 17,
   "metadata": {},
   "outputs": [
    {
     "name": "stdout",
     "output_type": "stream",
     "text": [
      "Computing the cosine similarity matrix...\n"
     ]
    },
    {
     "name": "stderr",
     "output_type": "stream",
     "text": [
      "c:\\Users\\Skynetth\\AppData\\Local\\Programs\\Python\\Python37\\lib\\site-packages\\surprise\\prediction_algorithms\\algo_base.py:249: RuntimeWarning: invalid value encountered in double_scalars\n",
      "  sim = construction_func[name](*args)\n"
     ]
    },
    {
     "name": "stdout",
     "output_type": "stream",
     "text": [
      "Done computing similarity matrix.\n",
      "Precision 0.23738069650213636\n",
      "Recall 0.5271378016960704\n",
      "fp 9611\n",
      "tn 217502\n",
      "tp 2326\n",
      "fn 581\n",
      "Computing the cosine similarity matrix...\n",
      "Done computing similarity matrix.\n",
      "Precision 0.25013902748991423\n",
      "Recall 0.5360463195676547\n",
      "fp 9434\n",
      "tn 217495\n",
      "tp 2464\n",
      "fn 627\n",
      "Computing the cosine similarity matrix...\n",
      "Done computing similarity matrix.\n",
      "Precision 0.23596568665080184\n",
      "Recall 0.5213427243164096\n",
      "fp 9581\n",
      "tn 217593\n",
      "tp 2274\n",
      "fn 572\n",
      "Computing the cosine similarity matrix...\n",
      "Done computing similarity matrix.\n",
      "Precision 0.24083676637411167\n",
      "Recall 0.5202582088322083\n",
      "fp 9037\n",
      "tn 218025\n",
      "tp 2319\n",
      "fn 639\n",
      "Computing the cosine similarity matrix...\n",
      "Done computing similarity matrix.\n",
      "Precision 0.2507134754313685\n",
      "Recall 0.5540462759569043\n",
      "fp 9462\n",
      "tn 217582\n",
      "tp 2416\n",
      "fn 560\n",
      "Computing the cosine similarity matrix...\n",
      "Done computing similarity matrix.\n",
      "Precision 0.2509156196958453\n",
      "Recall 0.5350947489121471\n",
      "fp 8790\n",
      "tn 218300\n",
      "tp 2320\n",
      "fn 610\n",
      "Computing the cosine similarity matrix...\n",
      "Done computing similarity matrix.\n",
      "Precision 0.24498072379587651\n",
      "Recall 0.5388158381876488\n",
      "fp 9160\n",
      "tn 217929\n",
      "tp 2371\n",
      "fn 559\n",
      "Computing the cosine similarity matrix...\n",
      "Done computing similarity matrix.\n",
      "Precision 0.24721625171652015\n",
      "Recall 0.5295217531804077\n",
      "fp 8894\n",
      "tn 218220\n",
      "tp 2309\n",
      "fn 596\n",
      "Computing the cosine similarity matrix...\n",
      "Done computing similarity matrix.\n",
      "Precision 0.2462912497974293\n",
      "Recall 0.5179757271470953\n",
      "fp 8870\n",
      "tn 218243\n",
      "tp 2302\n",
      "fn 604\n",
      "Computing the cosine similarity matrix...\n",
      "Done computing similarity matrix.\n",
      "Precision 0.247305382837355\n",
      "Recall 0.5468571458184246\n",
      "fp 9435\n",
      "tn 217564\n",
      "tp 2420\n",
      "fn 600\n"
     ]
    }
   ],
   "source": [
    "write_report_to_file(report_file='report_comp_lib_015.txt',df_name='surprise_df_comp_lib_df_cut_5_5.csv',row_cut=5,col_cut=5, surprise_df_path='..\\\\transformation_component\\\\transformation_storage\\\\libraries_data\\\\surprise_df_comp_lib_df_cut_5_5.csv', original_df_path='..\\\\transformation_component\\\\transformation_storage\\\\libraries_data\\\\comp_lib_df_cut_5_5.csv')"
   ]
  },
  {
   "cell_type": "code",
   "execution_count": 16,
   "metadata": {},
   "outputs": [
    {
     "name": "stdout",
     "output_type": "stream",
     "text": [
      "Computing the cosine similarity matrix...\n",
      "Done computing similarity matrix.\n",
      "Precision 0.28844905094905116\n",
      "Recall 0.5860572880553898\n",
      "fp 3840\n",
      "tn 38212\n",
      "tp 1350\n",
      "fn 414\n",
      "Computing the cosine similarity matrix...\n",
      "Done computing similarity matrix.\n",
      "Precision 0.2919025419025421\n",
      "Recall 0.6200690251794907\n",
      "fp 3975\n",
      "tn 38147\n",
      "tp 1319\n",
      "fn 375\n",
      "Computing the cosine similarity matrix...\n",
      "Done computing similarity matrix.\n",
      "Precision 0.31141844266844254\n",
      "Recall 0.6390704701169325\n",
      "fp 3796\n",
      "tn 38293\n",
      "tp 1338\n",
      "fn 388\n",
      "Computing the cosine similarity matrix...\n",
      "Done computing similarity matrix.\n",
      "Precision 0.2911928349428348\n",
      "Recall 0.6101550664596996\n",
      "fp 3872\n",
      "tn 38181\n",
      "tp 1312\n",
      "fn 450\n",
      "Computing the cosine similarity matrix...\n",
      "Done computing similarity matrix.\n",
      "Precision 0.3070554445554444\n",
      "Recall 0.6260922866227765\n",
      "fp 3705\n",
      "tn 38329\n",
      "tp 1331\n",
      "fn 450\n",
      "Computing the cosine similarity matrix...\n",
      "Done computing similarity matrix.\n",
      "Precision 0.2942654567654568\n",
      "Recall 0.6090812060114602\n",
      "fp 3836\n",
      "tn 38205\n",
      "tp 1338\n",
      "fn 436\n",
      "Computing the cosine similarity matrix...\n",
      "Done computing similarity matrix.\n",
      "Precision 0.29828504828504826\n",
      "Recall 0.6223443879659376\n",
      "fp 3950\n",
      "tn 38085\n",
      "tp 1388\n",
      "fn 392\n",
      "Computing the cosine similarity matrix...\n",
      "Done computing similarity matrix.\n",
      "Precision 0.29717643467643445\n",
      "Recall 0.6286059830093522\n",
      "fp 3822\n",
      "tn 38224\n",
      "tp 1358\n",
      "fn 411\n",
      "Computing the cosine similarity matrix...\n",
      "Done computing similarity matrix.\n",
      "Precision 0.29412254412254357\n",
      "Recall 0.6048628940748568\n",
      "fp 3884\n",
      "tn 38234\n",
      "tp 1282\n",
      "fn 415\n",
      "Computing the cosine similarity matrix...\n",
      "Done computing similarity matrix.\n",
      "Precision 0.30107045732045734\n",
      "Recall 0.647780904506532\n",
      "fp 3968\n",
      "tn 38127\n",
      "tp 1352\n",
      "fn 368\n"
     ]
    }
   ],
   "source": [
    "\n",
    "write_report_to_file(report_file='report_comp_lib_015.txt',df_name='surprise_df_comp_lib_df_cut_10_10.csv',row_cut=10,col_cut=10, surprise_df_path='..\\\\transformation_component\\\\transformation_storage\\\\libraries_data\\\\surprise_df_comp_lib_df_cut_10_10.csv', original_df_path='..\\\\transformation_component\\\\transformation_storage\\\\libraries_data\\\\comp_lib_df_cut_10_10.csv')"
   ]
  },
  {
   "cell_type": "code",
   "execution_count": 4,
   "metadata": {},
   "outputs": [
    {
     "name": "stdout",
     "output_type": "stream",
     "text": [
      "Computing the msd similarity matrix...\n",
      "Done computing similarity matrix.\n",
      "Computing the msd similarity matrix...\n",
      "Done computing similarity matrix.\n",
      "Computing the msd similarity matrix...\n",
      "Done computing similarity matrix.\n",
      "Computing the msd similarity matrix...\n",
      "Done computing similarity matrix.\n",
      "Computing the msd similarity matrix...\n",
      "Done computing similarity matrix.\n",
      "Computing the msd similarity matrix...\n",
      "Done computing similarity matrix.\n",
      "Computing the msd similarity matrix...\n",
      "Done computing similarity matrix.\n",
      "Computing the msd similarity matrix...\n",
      "Done computing similarity matrix.\n",
      "Computing the msd similarity matrix...\n",
      "Done computing similarity matrix.\n",
      "Computing the msd similarity matrix...\n",
      "Done computing similarity matrix.\n"
     ]
    }
   ],
   "source": [
    "write_report_to_file(report_file='report_comp_lib_015.txt',df_name='surprise_df_comp_lib_df_cut_5_10.csv',row_cut=5,col_cut=10, surprise_df_path='..\\\\transformation_component\\\\transformation_storage\\\\libraries_data\\\\surprise_df_comp_lib_df_cut_5_10.csv', original_df_path='..\\\\transformation_component\\\\transformation_storage\\\\libraries_data\\\\comp_lib_df_cut_5_10.csv')"
   ]
  },
  {
   "cell_type": "code",
   "execution_count": 5,
   "metadata": {},
   "outputs": [
    {
     "name": "stdout",
     "output_type": "stream",
     "text": [
      "Computing the msd similarity matrix...\n",
      "Done computing similarity matrix.\n",
      "Computing the msd similarity matrix...\n",
      "Done computing similarity matrix.\n",
      "Computing the msd similarity matrix...\n",
      "Done computing similarity matrix.\n",
      "Computing the msd similarity matrix...\n",
      "Done computing similarity matrix.\n",
      "Computing the msd similarity matrix...\n",
      "Done computing similarity matrix.\n",
      "Computing the msd similarity matrix...\n",
      "Done computing similarity matrix.\n",
      "Computing the msd similarity matrix...\n",
      "Done computing similarity matrix.\n",
      "Computing the msd similarity matrix...\n",
      "Done computing similarity matrix.\n",
      "Computing the msd similarity matrix...\n",
      "Done computing similarity matrix.\n",
      "Computing the msd similarity matrix...\n",
      "Done computing similarity matrix.\n"
     ]
    }
   ],
   "source": [
    "write_report_to_file(report_file='report_comp_lib.txt',df_name='surprise_df_comp_lib_df_cut_1_1.csv',row_cut=1,col_cut=1, surprise_df_path='..\\\\transformation_component\\\\transformation_storage\\\\libraries_data\\\\surprise_df_comp_lib_df_cut_1_1.csv', original_df_path='..\\\\transformation_component\\\\transformation_storage\\\\libraries_data\\\\comp_lib_df_cut_1_1.csv')"
   ]
  },
  {
   "cell_type": "code",
   "execution_count": null,
   "metadata": {},
   "outputs": [],
   "source": [
    "write_report_to_file(report_file='report_comp_lib.txt',df_name='surprise_df_comp_lib_df_cut_1_5.csv',row_cut=1,col_cut=5, surprise_df_path='..\\\\transformation_component\\\\transformation_storage\\\\libraries_data\\\\surprise_df_comp_lib_df_cut_1_5.csv', original_df_path='..\\\\transformation_component\\\\transformation_storage\\\\libraries_data\\\\comp_lib_df_cut_1_5.csv')"
   ]
  },
  {
   "cell_type": "code",
   "execution_count": 4,
   "metadata": {},
   "outputs": [
    {
     "name": "stdout",
     "output_type": "stream",
     "text": [
      "Computing the msd similarity matrix...\n",
      "Done computing similarity matrix.\n",
      "Computing the msd similarity matrix...\n",
      "Done computing similarity matrix.\n",
      "Computing the msd similarity matrix...\n",
      "Done computing similarity matrix.\n",
      "Computing the msd similarity matrix...\n",
      "Done computing similarity matrix.\n"
     ]
    }
   ],
   "source": [
    "write_report_to_file(report_file='report_comp_lib.txt',df_name='surprise_df_comp_lib_df_cut_0_0.csv',row_cut=0,col_cut=0, surprise_df_path='..\\\\transformation_component\\\\transformation_storage\\\\libraries_data\\\\surprise_df_comp_lib_df_cut_0_0.csv', original_df_path='..\\\\transformation_component\\\\transformation_storage\\\\libraries_data\\\\comp_lib_df_cut_0_0.csv')"
   ]
  },
  {
   "cell_type": "markdown",
   "metadata": {},
   "source": [
    "# Tag Components Report"
   ]
  },
  {
   "cell_type": "code",
   "execution_count": 1,
   "metadata": {},
   "outputs": [
    {
     "ename": "NameError",
     "evalue": "name 'write_report_to_file' is not defined",
     "output_type": "error",
     "traceback": [
      "\u001b[1;31m---------------------------------------------------------------------------\u001b[0m",
      "\u001b[1;31mNameError\u001b[0m                                 Traceback (most recent call last)",
      "\u001b[1;32m~\\AppData\\Local\\Temp\\ipykernel_25104\\559857599.py\u001b[0m in \u001b[0;36m<module>\u001b[1;34m\u001b[0m\n\u001b[1;32m----> 1\u001b[1;33m \u001b[0mwrite_report_to_file\u001b[0m\u001b[1;33m(\u001b[0m\u001b[0mreport_file\u001b[0m\u001b[1;33m=\u001b[0m\u001b[1;34m'report_tag_comp.txt'\u001b[0m\u001b[1;33m,\u001b[0m\u001b[0mdf_name\u001b[0m\u001b[1;33m=\u001b[0m\u001b[1;34m'surprise_tag_comp_cut_5_5.csv'\u001b[0m\u001b[1;33m,\u001b[0m\u001b[0mrow_cut\u001b[0m\u001b[1;33m=\u001b[0m\u001b[1;36m5\u001b[0m\u001b[1;33m,\u001b[0m\u001b[0mcol_cut\u001b[0m\u001b[1;33m=\u001b[0m\u001b[1;36m5\u001b[0m\u001b[1;33m,\u001b[0m \u001b[0msurprise_df_path\u001b[0m\u001b[1;33m=\u001b[0m\u001b[1;34m'..\\\\transformation_component\\\\transformation_storage\\\\tag_data\\\\surprise_tag_comp_cut_5_5.csv'\u001b[0m\u001b[1;33m,\u001b[0m \u001b[0moriginal_df_path\u001b[0m\u001b[1;33m=\u001b[0m\u001b[1;34m'..\\\\transformation_component\\\\transformation_storage\\\\tag_data\\\\df_tag_comp_cut_5_5.csv'\u001b[0m\u001b[1;33m)\u001b[0m\u001b[1;33m\u001b[0m\u001b[1;33m\u001b[0m\u001b[0m\n\u001b[0m",
      "\u001b[1;31mNameError\u001b[0m: name 'write_report_to_file' is not defined"
     ]
    }
   ],
   "source": [
    "write_report_to_file(report_file='report_tag_comp.txt',df_name='surprise_tag_comp_cut_5_5.csv',row_cut=5,col_cut=5, surprise_df_path='..\\\\transformation_component\\\\transformation_storage\\\\tag_data\\\\surprise_tag_comp_cut_5_5.csv', original_df_path='..\\\\transformation_component\\\\transformation_storage\\\\tag_data\\\\df_tag_comp_cut_5_5.csv')"
   ]
  },
  {
   "cell_type": "code",
   "execution_count": null,
   "metadata": {},
   "outputs": [],
   "source": [
    "write_report_to_file(report_file='report_tag_comp.txt',df_name='surprise_tag_comp_cut_10_10.csv',row_cut=10,col_cut=10, surprise_df_path='..\\\\transformation_component\\\\transformation_storage\\\\tag_data\\\\surprise_tag_comp_cut_10_10.csv', original_df_path='..\\\\transformation_component\\\\transformation_storage\\\\tag_data\\\\df_tag_comp_cut_10_10.csv')"
   ]
  },
  {
   "cell_type": "code",
   "execution_count": null,
   "metadata": {},
   "outputs": [],
   "source": [
    "write_report_to_file(report_file='report_tag_comp.txt',df_name='surprise_tag_comp_cut_0_0.csv',row_cut=0,col_cut=0, surprise_df_path='..\\\\transformation_component\\\\transformation_storage\\\\tag_data\\\\surprise_tag_comp_cut_0_0.csv', original_df_path='..\\\\transformation_component\\\\transformation_storage\\\\tag_data\\\\df_tag_comp_cut_0_0.csv')"
   ]
  },
  {
   "cell_type": "code",
   "execution_count": 4,
   "metadata": {},
   "outputs": [
    {
     "data": {
      "text/html": [
       "<div>\n",
       "<style scoped>\n",
       "    .dataframe tbody tr th:only-of-type {\n",
       "        vertical-align: middle;\n",
       "    }\n",
       "\n",
       "    .dataframe tbody tr th {\n",
       "        vertical-align: top;\n",
       "    }\n",
       "\n",
       "    .dataframe thead th {\n",
       "        text-align: right;\n",
       "    }\n",
       "</style>\n",
       "<table border=\"1\" class=\"dataframe\">\n",
       "  <thead>\n",
       "    <tr style=\"text-align: right;\">\n",
       "      <th></th>\n",
       "      <th>tagID</th>\n",
       "      <th>componentID</th>\n",
       "      <th>rating</th>\n",
       "    </tr>\n",
       "  </thead>\n",
       "  <tbody>\n",
       "    <tr>\n",
       "      <th>1794</th>\n",
       "      <td>plc</td>\n",
       "      <td>Arduino Ethernet Shield 2</td>\n",
       "      <td>1</td>\n",
       "    </tr>\n",
       "    <tr>\n",
       "      <th>4710</th>\n",
       "      <td>plc</td>\n",
       "      <td>9V 1A Switching Wall Power Supply</td>\n",
       "      <td>1</td>\n",
       "    </tr>\n",
       "    <tr>\n",
       "      <th>5564</th>\n",
       "      <td>plc</td>\n",
       "      <td>Alphanumeric LCD 20 x 4</td>\n",
       "      <td>1</td>\n",
       "    </tr>\n",
       "    <tr>\n",
       "      <th>5987</th>\n",
       "      <td>plc</td>\n",
       "      <td>Jumper wires (generic)</td>\n",
       "      <td>1</td>\n",
       "    </tr>\n",
       "    <tr>\n",
       "      <th>6195</th>\n",
       "      <td>plc</td>\n",
       "      <td>Arduino Mega 2560</td>\n",
       "      <td>1</td>\n",
       "    </tr>\n",
       "    <tr>\n",
       "      <th>...</th>\n",
       "      <td>...</td>\n",
       "      <td>...</td>\n",
       "      <td>...</td>\n",
       "    </tr>\n",
       "    <tr>\n",
       "      <th>36523845</th>\n",
       "      <td>die</td>\n",
       "      <td>Resistor 220 ohm</td>\n",
       "      <td>2</td>\n",
       "    </tr>\n",
       "    <tr>\n",
       "      <th>36524036</th>\n",
       "      <td>die</td>\n",
       "      <td>MAX7219 based 8x8 Led Matrix</td>\n",
       "      <td>1</td>\n",
       "    </tr>\n",
       "    <tr>\n",
       "      <th>36524675</th>\n",
       "      <td>die</td>\n",
       "      <td>Arduino Nano R3</td>\n",
       "      <td>1</td>\n",
       "    </tr>\n",
       "    <tr>\n",
       "      <th>36524704</th>\n",
       "      <td>die</td>\n",
       "      <td>Tactile Switch Top Actuated</td>\n",
       "      <td>2</td>\n",
       "    </tr>\n",
       "    <tr>\n",
       "      <th>36527032</th>\n",
       "      <td>die</td>\n",
       "      <td>5 mm LED: Red</td>\n",
       "      <td>2</td>\n",
       "    </tr>\n",
       "  </tbody>\n",
       "</table>\n",
       "<p>82201 rows × 3 columns</p>\n",
       "</div>"
      ],
      "text/plain": [
       "         tagID                        componentID  rating\n",
       "1794       plc          Arduino Ethernet Shield 2       1\n",
       "4710       plc  9V 1A Switching Wall Power Supply       1\n",
       "5564       plc            Alphanumeric LCD 20 x 4       1\n",
       "5987       plc             Jumper wires (generic)       1\n",
       "6195       plc                  Arduino Mega 2560       1\n",
       "...        ...                                ...     ...\n",
       "36523845   die                   Resistor 220 ohm       2\n",
       "36524036   die       MAX7219 based 8x8 Led Matrix       1\n",
       "36524675   die                    Arduino Nano R3       1\n",
       "36524704   die        Tactile Switch Top Actuated       2\n",
       "36527032   die                      5 mm LED: Red       2\n",
       "\n",
       "[82201 rows x 3 columns]"
      ]
     },
     "metadata": {},
     "output_type": "display_data"
    },
    {
     "name": "stdout",
     "output_type": "stream",
     "text": [
      "Computing the cosine similarity matrix...\n",
      "Done computing similarity matrix.\n",
      "Precision 1.0\n",
      "Recall 0.946555671832738\n",
      "Computing the cosine similarity matrix...\n",
      "Done computing similarity matrix.\n",
      "Precision 1.0\n",
      "Recall 0.9446349323624452\n",
      "Computing the cosine similarity matrix...\n",
      "Done computing similarity matrix.\n",
      "Precision 1.0\n",
      "Recall 0.947329675553826\n",
      "Computing the cosine similarity matrix...\n",
      "Done computing similarity matrix.\n",
      "Precision 1.0\n",
      "Recall 0.9473242429475083\n",
      "Computing the cosine similarity matrix...\n",
      "Done computing similarity matrix.\n",
      "Precision 1.0\n",
      "Recall 0.9446857400293404\n"
     ]
    }
   ],
   "source": [
    "write_report_to_file(report_file='report_tag_comp.txt',df_name='surprise_tag_comp_cut_1_1.csv',row_cut=1,col_cut=1, surprise_df_path='..\\\\transformation_component\\\\transformation_storage\\\\tag_data\\\\surprise_tag_comp_cut_1_1.csv', original_df_path='..\\\\transformation_component\\\\transformation_storage\\\\tag_data\\\\df_tag_comp_cut_1_1.csv')"
   ]
  },
  {
   "cell_type": "code",
   "execution_count": 6,
   "metadata": {},
   "outputs": [
    {
     "name": "stdout",
     "output_type": "stream",
     "text": [
      "Computing the msd similarity matrix...\n",
      "Done computing similarity matrix.\n",
      "Computing the msd similarity matrix...\n",
      "Done computing similarity matrix.\n",
      "Computing the msd similarity matrix...\n",
      "Done computing similarity matrix.\n",
      "Computing the msd similarity matrix...\n",
      "Done computing similarity matrix.\n",
      "Computing the msd similarity matrix...\n",
      "Done computing similarity matrix.\n",
      "Computing the msd similarity matrix...\n",
      "Done computing similarity matrix.\n",
      "Computing the msd similarity matrix...\n",
      "Done computing similarity matrix.\n",
      "Computing the msd similarity matrix...\n",
      "Done computing similarity matrix.\n",
      "Computing the msd similarity matrix...\n",
      "Done computing similarity matrix.\n",
      "Computing the msd similarity matrix...\n",
      "Done computing similarity matrix.\n"
     ]
    }
   ],
   "source": [
    "write_report_to_file(report_file='report_tag_comp.txt',df_name='surprise_tag_comp_cut_1_1.csv',row_cut=1,col_cut=1, surprise_df_path='..\\\\transformation_component\\\\transformation_storage\\\\tag_data\\\\surprise_tag_comp_cut_1_1.csv', original_df_path='..\\\\transformation_component\\\\transformation_storage\\\\tag_data\\\\df_tag_comp_cut_1_1.csv')"
   ]
  },
  {
   "cell_type": "code",
   "execution_count": null,
   "metadata": {},
   "outputs": [],
   "source": []
  }
 ],
 "metadata": {
  "kernelspec": {
   "display_name": "Python 3.7.9 64-bit",
   "language": "python",
   "name": "python3"
  },
  "language_info": {
   "codemirror_mode": {
    "name": "ipython",
    "version": 3
   },
   "file_extension": ".py",
   "mimetype": "text/x-python",
   "name": "python",
   "nbconvert_exporter": "python",
   "pygments_lexer": "ipython3",
   "version": "3.7.9"
  },
  "orig_nbformat": 4,
  "vscode": {
   "interpreter": {
    "hash": "8dc0d7ba038b507a08c60add6cd202e09e1772ab4e5cb693912434db3e8a8d80"
   }
  }
 },
 "nbformat": 4,
 "nbformat_minor": 2
}
